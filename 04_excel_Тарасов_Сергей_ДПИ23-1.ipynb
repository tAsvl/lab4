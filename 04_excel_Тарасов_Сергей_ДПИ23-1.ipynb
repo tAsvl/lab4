{
 "cells": [
  {
   "cell_type": "markdown",
   "metadata": {},
   "source": [
    "# Работа с Excel"
   ]
  },
  {
   "cell_type": "markdown",
   "metadata": {},
   "source": [
    "Материалы:\n",
    "* Макрушин С.В. Лекция 7: Работа с Excel\n",
    "* https://docs.xlwings.org/en/stable/quickstart.html\n",
    "* https://nbviewer.jupyter.org/github/pybokeh/jupyter_notebooks/blob/master/xlwings/Excel_Formatting.ipynb#search_text\n"
   ]
  },
  {
   "cell_type": "code",
   "execution_count": 75,
   "metadata": {},
   "outputs": [],
   "source": [
    "import xlwings as xw\n",
    "from appscript import k\n",
    "import pandas as pd\n",
    "import numpy as np\n",
    "import xlsxwriter\n",
    "import csv\n",
    "import matplotlib.pyplot as plt"
   ]
  },
  {
   "cell_type": "markdown",
   "metadata": {},
   "source": [
    "## Задачи для совместного разбора"
   ]
  },
  {
   "cell_type": "markdown",
   "metadata": {},
   "source": [
    "1. На листе \"Рецептура\" файла `себестоимостьА_в1.xlsx` для области \"Пшеничный хлеб\" рассчитать себестоимость всех видов продукции."
   ]
  },
  {
   "cell_type": "markdown",
   "metadata": {},
   "source": [
    "2. Результаты расчетов 1.1 сохранить в отдельном столбце области \"Пшеничный хлеб\""
   ]
  },
  {
   "cell_type": "code",
   "execution_count": 9,
   "metadata": {},
   "outputs": [
    {
     "data": {
      "text/plain": [
       "[21.48, 16.525, 17.423000000000002, 18.085]"
      ]
     },
     "execution_count": 9,
     "metadata": {},
     "output_type": "execute_result"
    }
   ],
   "source": [
    "wb = xw.Book('себестоимостьА_в1.xlsx')\n",
    "\n",
    "xw.Range(\"T7:T10\").formula = '=SUMPRODUCT(G7:O7,G$14:O$14)'\n",
    "xw.Range('T4').value = 'Себестоимость'\n",
    "xw.Range('T4').columns[0].autofit()\n",
    "xw.Range('T7:T10').value"
   ]
  },
  {
   "cell_type": "markdown",
   "metadata": {},
   "source": [
    "3. Приблизить форматирование столбца, добавленного в задаче 2 к оформлению всей области."
   ]
  },
  {
   "cell_type": "code",
   "execution_count": 15,
   "metadata": {},
   "outputs": [],
   "source": [
    "xw.Range('T4:T6').merge(across=False)\n",
    "xw.Range('S3:T3').merge(across=False)\n",
    "\n",
    "\n",
    "\n",
    "xw.Range('T4').color = (245, 192, 0)\n",
    "xw.Range('T7:T10').color = (255, 255, 167)\n",
    "xw.Range('T4').api.HorizontalAlignment = xw.constants.HAlign.xlHAlignCenter\n",
    "xw.Range('T4').api.VerticalAlignment = xw.constants.HAlign.xlHAlignCenter\n",
    "\n",
    "xw.Range('T4').font.color = \"#ffffff\"\n",
    "xw.Range('T4').font.bold = True\n",
    "\n",
    "# xw.Range('T4:T11').api.Borders.Weight = 2\n",
    "# xw.Range('T4:T10').api.Borders.Weight = 2\n",
    "xw.Range('T4:T11').api.get_border(which_border=k.border_top).weight.set(2)\n",
    "xw.Range('T4:T10').api.get_border(which_border=k.border_right).weight.set(2)"
   ]
  },
  {
   "cell_type": "markdown",
   "metadata": {},
   "source": [
    "4. Выполнить 3 с помощью \"протягиваемых\" формул."
   ]
  },
  {
   "cell_type": "markdown",
   "metadata": {},
   "source": [
    "## Лабораторная работа 7.1"
   ]
  },
  {
   "cell_type": "markdown",
   "metadata": {},
   "source": [
    "1. Загрузите данные из файлов `reviews_sample.csv` (__ЛР2__) и `recipes_sample.csv` (__ЛР5__) в виде `pd.DataFrame`. Обратите внимание на корректное считывание столбца(ов) с индексами. Оставьте в таблице с рецептами следующие столбцы: `id`, `name`, `minutes`, `submitted`, `description`, `n_ingredients`"
   ]
  },
  {
   "cell_type": "code",
   "execution_count": 2,
   "metadata": {},
   "outputs": [
    {
     "data": {
      "text/html": [
       "<div>\n",
       "<style scoped>\n",
       "    .dataframe tbody tr th:only-of-type {\n",
       "        vertical-align: middle;\n",
       "    }\n",
       "\n",
       "    .dataframe tbody tr th {\n",
       "        vertical-align: top;\n",
       "    }\n",
       "\n",
       "    .dataframe thead th {\n",
       "        text-align: right;\n",
       "    }\n",
       "</style>\n",
       "<table border=\"1\" class=\"dataframe\">\n",
       "  <thead>\n",
       "    <tr style=\"text-align: right;\">\n",
       "      <th></th>\n",
       "      <th>name</th>\n",
       "      <th>id</th>\n",
       "      <th>minutes</th>\n",
       "      <th>submitted</th>\n",
       "      <th>description</th>\n",
       "      <th>n_ingredients</th>\n",
       "    </tr>\n",
       "  </thead>\n",
       "  <tbody>\n",
       "    <tr>\n",
       "      <th>0</th>\n",
       "      <td>george s at the cove  black bean soup</td>\n",
       "      <td>44123</td>\n",
       "      <td>90</td>\n",
       "      <td>2002-10-25</td>\n",
       "      <td>an original recipe created by chef scott meska...</td>\n",
       "      <td>18.0</td>\n",
       "    </tr>\n",
       "    <tr>\n",
       "      <th>1</th>\n",
       "      <td>healthy for them  yogurt popsicles</td>\n",
       "      <td>67664</td>\n",
       "      <td>10</td>\n",
       "      <td>2003-07-26</td>\n",
       "      <td>my children and their friends ask for my homem...</td>\n",
       "      <td>NaN</td>\n",
       "    </tr>\n",
       "    <tr>\n",
       "      <th>2</th>\n",
       "      <td>i can t believe it s spinach</td>\n",
       "      <td>38798</td>\n",
       "      <td>30</td>\n",
       "      <td>2002-08-29</td>\n",
       "      <td>these were so go, it surprised even me.</td>\n",
       "      <td>8.0</td>\n",
       "    </tr>\n",
       "    <tr>\n",
       "      <th>3</th>\n",
       "      <td>italian  gut busters</td>\n",
       "      <td>35173</td>\n",
       "      <td>45</td>\n",
       "      <td>2002-07-27</td>\n",
       "      <td>my sister-in-law made these for us at a family...</td>\n",
       "      <td>NaN</td>\n",
       "    </tr>\n",
       "    <tr>\n",
       "      <th>4</th>\n",
       "      <td>love is in the air  beef fondue   sauces</td>\n",
       "      <td>84797</td>\n",
       "      <td>25</td>\n",
       "      <td>2004-02-23</td>\n",
       "      <td>i think a fondue is a very romantic casual din...</td>\n",
       "      <td>NaN</td>\n",
       "    </tr>\n",
       "    <tr>\n",
       "      <th>...</th>\n",
       "      <td>...</td>\n",
       "      <td>...</td>\n",
       "      <td>...</td>\n",
       "      <td>...</td>\n",
       "      <td>...</td>\n",
       "      <td>...</td>\n",
       "    </tr>\n",
       "    <tr>\n",
       "      <th>29995</th>\n",
       "      <td>zurie s holey rustic olive and cheddar bread</td>\n",
       "      <td>267661</td>\n",
       "      <td>80</td>\n",
       "      <td>2007-11-25</td>\n",
       "      <td>this is based on a french recipe but i changed...</td>\n",
       "      <td>10.0</td>\n",
       "    </tr>\n",
       "    <tr>\n",
       "      <th>29996</th>\n",
       "      <td>zwetschgenkuchen  bavarian plum cake</td>\n",
       "      <td>386977</td>\n",
       "      <td>240</td>\n",
       "      <td>2009-08-24</td>\n",
       "      <td>this is a traditional fresh plum cake, thought...</td>\n",
       "      <td>11.0</td>\n",
       "    </tr>\n",
       "    <tr>\n",
       "      <th>29997</th>\n",
       "      <td>zwiebelkuchen   southwest german onion cake</td>\n",
       "      <td>103312</td>\n",
       "      <td>75</td>\n",
       "      <td>2004-11-03</td>\n",
       "      <td>this is a traditional late summer early fall s...</td>\n",
       "      <td>NaN</td>\n",
       "    </tr>\n",
       "    <tr>\n",
       "      <th>29998</th>\n",
       "      <td>zydeco soup</td>\n",
       "      <td>486161</td>\n",
       "      <td>60</td>\n",
       "      <td>2012-08-29</td>\n",
       "      <td>this is a delicious soup that i originally fou...</td>\n",
       "      <td>NaN</td>\n",
       "    </tr>\n",
       "    <tr>\n",
       "      <th>29999</th>\n",
       "      <td>cookies by design   cookies on a stick</td>\n",
       "      <td>298512</td>\n",
       "      <td>29</td>\n",
       "      <td>2008-04-15</td>\n",
       "      <td>i've heard of the 'cookies by design' company,...</td>\n",
       "      <td>10.0</td>\n",
       "    </tr>\n",
       "  </tbody>\n",
       "</table>\n",
       "<p>30000 rows × 6 columns</p>\n",
       "</div>"
      ],
      "text/plain": [
       "                                               name      id  minutes  \\\n",
       "0             george s at the cove  black bean soup   44123       90   \n",
       "1                healthy for them  yogurt popsicles   67664       10   \n",
       "2                      i can t believe it s spinach   38798       30   \n",
       "3                              italian  gut busters   35173       45   \n",
       "4          love is in the air  beef fondue   sauces   84797       25   \n",
       "...                                             ...     ...      ...   \n",
       "29995  zurie s holey rustic olive and cheddar bread  267661       80   \n",
       "29996          zwetschgenkuchen  bavarian plum cake  386977      240   \n",
       "29997   zwiebelkuchen   southwest german onion cake  103312       75   \n",
       "29998                                   zydeco soup  486161       60   \n",
       "29999        cookies by design   cookies on a stick  298512       29   \n",
       "\n",
       "        submitted                                        description  \\\n",
       "0      2002-10-25  an original recipe created by chef scott meska...   \n",
       "1      2003-07-26  my children and their friends ask for my homem...   \n",
       "2      2002-08-29            these were so go, it surprised even me.   \n",
       "3      2002-07-27  my sister-in-law made these for us at a family...   \n",
       "4      2004-02-23  i think a fondue is a very romantic casual din...   \n",
       "...           ...                                                ...   \n",
       "29995  2007-11-25  this is based on a french recipe but i changed...   \n",
       "29996  2009-08-24  this is a traditional fresh plum cake, thought...   \n",
       "29997  2004-11-03  this is a traditional late summer early fall s...   \n",
       "29998  2012-08-29  this is a delicious soup that i originally fou...   \n",
       "29999  2008-04-15  i've heard of the 'cookies by design' company,...   \n",
       "\n",
       "       n_ingredients  \n",
       "0               18.0  \n",
       "1                NaN  \n",
       "2                8.0  \n",
       "3                NaN  \n",
       "4                NaN  \n",
       "...              ...  \n",
       "29995           10.0  \n",
       "29996           11.0  \n",
       "29997            NaN  \n",
       "29998            NaN  \n",
       "29999           10.0  \n",
       "\n",
       "[30000 rows x 6 columns]"
      ]
     },
     "execution_count": 2,
     "metadata": {},
     "output_type": "execute_result"
    }
   ],
   "source": [
    "recipes = pd.read_csv(\n",
    "    'recipes_sample.csv',\n",
    "    delimiter=',',\n",
    "    usecols=['id', 'name', 'minutes', 'submitted', 'description', 'n_ingredients']\n",
    "    )\n",
    "reviews = pd.read_csv('reviews_sample.csv', delimiter=',', index_col=0)\n",
    "recipes"
   ]
  },
  {
   "cell_type": "markdown",
   "metadata": {},
   "source": [
    "2. Случайным образом выберите 5% строк из каждой таблицы и сохраните две таблицы на разные листы в один файл `recipes.xlsx`. Дайте листам названия \"Рецепты\" и \"Отзывы\", соответствующие содержанию таблиц. "
   ]
  },
  {
   "cell_type": "code",
   "execution_count": 3,
   "metadata": {},
   "outputs": [
    {
     "data": {
      "text/html": [
       "<div>\n",
       "<style scoped>\n",
       "    .dataframe tbody tr th:only-of-type {\n",
       "        vertical-align: middle;\n",
       "    }\n",
       "\n",
       "    .dataframe tbody tr th {\n",
       "        vertical-align: top;\n",
       "    }\n",
       "\n",
       "    .dataframe thead th {\n",
       "        text-align: right;\n",
       "    }\n",
       "</style>\n",
       "<table border=\"1\" class=\"dataframe\">\n",
       "  <thead>\n",
       "    <tr style=\"text-align: right;\">\n",
       "      <th></th>\n",
       "      <th>user_id</th>\n",
       "      <th>recipe_id</th>\n",
       "      <th>date</th>\n",
       "      <th>rating</th>\n",
       "      <th>review</th>\n",
       "    </tr>\n",
       "  </thead>\n",
       "  <tbody>\n",
       "    <tr>\n",
       "      <th>291186</th>\n",
       "      <td>1802648995</td>\n",
       "      <td>133295</td>\n",
       "      <td>2014-04-06</td>\n",
       "      <td>5</td>\n",
       "      <td>I originally tried this when I was 3. Not quit...</td>\n",
       "    </tr>\n",
       "    <tr>\n",
       "      <th>312935</th>\n",
       "      <td>2000232998</td>\n",
       "      <td>124259</td>\n",
       "      <td>2015-05-28</td>\n",
       "      <td>5</td>\n",
       "      <td>The best recipe you could use, same as my grea...</td>\n",
       "    </tr>\n",
       "    <tr>\n",
       "      <th>1004306</th>\n",
       "      <td>810945</td>\n",
       "      <td>154356</td>\n",
       "      <td>2009-07-06</td>\n",
       "      <td>0</td>\n",
       "      <td>I added a little of sesame oil, flakes of onio...</td>\n",
       "    </tr>\n",
       "    <tr>\n",
       "      <th>349278</th>\n",
       "      <td>155954</td>\n",
       "      <td>107911</td>\n",
       "      <td>2005-04-30</td>\n",
       "      <td>5</td>\n",
       "      <td>Every time I am looking for a recipe and I see...</td>\n",
       "    </tr>\n",
       "    <tr>\n",
       "      <th>1025042</th>\n",
       "      <td>136997</td>\n",
       "      <td>254614</td>\n",
       "      <td>2013-06-27</td>\n",
       "      <td>5</td>\n",
       "      <td>Very refreshing on a hot, humid day. I did cut...</td>\n",
       "    </tr>\n",
       "    <tr>\n",
       "      <th>...</th>\n",
       "      <td>...</td>\n",
       "      <td>...</td>\n",
       "      <td>...</td>\n",
       "      <td>...</td>\n",
       "      <td>...</td>\n",
       "    </tr>\n",
       "    <tr>\n",
       "      <th>660626</th>\n",
       "      <td>565041</td>\n",
       "      <td>214051</td>\n",
       "      <td>2014-10-02</td>\n",
       "      <td>4</td>\n",
       "      <td>Very good flavor but not the least scone-like ...</td>\n",
       "    </tr>\n",
       "    <tr>\n",
       "      <th>248804</th>\n",
       "      <td>2002120607</td>\n",
       "      <td>84749</td>\n",
       "      <td>2018-04-18</td>\n",
       "      <td>5</td>\n",
       "      <td>This is a favorite of our family. (we have thi...</td>\n",
       "    </tr>\n",
       "    <tr>\n",
       "      <th>575674</th>\n",
       "      <td>34842</td>\n",
       "      <td>15242</td>\n",
       "      <td>2002-03-13</td>\n",
       "      <td>5</td>\n",
       "      <td>Very good and easy to make. Make sure you use ...</td>\n",
       "    </tr>\n",
       "    <tr>\n",
       "      <th>10728</th>\n",
       "      <td>1409514</td>\n",
       "      <td>66077</td>\n",
       "      <td>2009-10-09</td>\n",
       "      <td>5</td>\n",
       "      <td>I did substitute light sour cream and 1/3 less...</td>\n",
       "    </tr>\n",
       "    <tr>\n",
       "      <th>148233</th>\n",
       "      <td>138724</td>\n",
       "      <td>69190</td>\n",
       "      <td>2004-04-26</td>\n",
       "      <td>5</td>\n",
       "      <td>Sara I tried this and loved it darlin post som...</td>\n",
       "    </tr>\n",
       "  </tbody>\n",
       "</table>\n",
       "<p>6334 rows × 5 columns</p>\n",
       "</div>"
      ],
      "text/plain": [
       "            user_id  recipe_id        date  rating  \\\n",
       "291186   1802648995     133295  2014-04-06       5   \n",
       "312935   2000232998     124259  2015-05-28       5   \n",
       "1004306      810945     154356  2009-07-06       0   \n",
       "349278       155954     107911  2005-04-30       5   \n",
       "1025042      136997     254614  2013-06-27       5   \n",
       "...             ...        ...         ...     ...   \n",
       "660626       565041     214051  2014-10-02       4   \n",
       "248804   2002120607      84749  2018-04-18       5   \n",
       "575674        34842      15242  2002-03-13       5   \n",
       "10728       1409514      66077  2009-10-09       5   \n",
       "148233       138724      69190  2004-04-26       5   \n",
       "\n",
       "                                                    review  \n",
       "291186   I originally tried this when I was 3. Not quit...  \n",
       "312935   The best recipe you could use, same as my grea...  \n",
       "1004306  I added a little of sesame oil, flakes of onio...  \n",
       "349278   Every time I am looking for a recipe and I see...  \n",
       "1025042  Very refreshing on a hot, humid day. I did cut...  \n",
       "...                                                    ...  \n",
       "660626   Very good flavor but not the least scone-like ...  \n",
       "248804   This is a favorite of our family. (we have thi...  \n",
       "575674   Very good and easy to make. Make sure you use ...  \n",
       "10728    I did substitute light sour cream and 1/3 less...  \n",
       "148233   Sara I tried this and loved it darlin post som...  \n",
       "\n",
       "[6334 rows x 5 columns]"
      ]
     },
     "execution_count": 3,
     "metadata": {},
     "output_type": "execute_result"
    }
   ],
   "source": [
    "recipes_5 = recipes.iloc[np.random.choice(len(recipes), int(len(recipes)*0.05), replace=False)]\n",
    "reviews_5 = reviews.iloc[np.random.choice(len(reviews), int(len(reviews)*0.05), replace=False)]\n",
    "\n",
    "writer = pd.ExcelWriter('./recipes.xlsx', engine='xlsxwriter')\n",
    "\n",
    "recipes_5.to_excel(writer, sheet_name='Рецепты', index=False)\n",
    "reviews_5.to_excel(writer, sheet_name='Отзывы')\n",
    "\n",
    "writer.close()\n",
    "\n",
    "reviews_5"
   ]
  },
  {
   "cell_type": "markdown",
   "metadata": {},
   "source": [
    "3. Используя `xlwings`, добавьте на лист `Рецепты` столбец `seconds_assign`, показывающий время выполнения рецепта в секундах. Выполните задание при помощи присваивания массива значений диапазону ячеек."
   ]
  },
  {
   "cell_type": "code",
   "execution_count": 4,
   "metadata": {},
   "outputs": [],
   "source": [
    "wb = xw.Book('recipes.xlsx')\n",
    "sht = xw.sheets['Рецепты']\n",
    "sht.range('G1').value = 'seconds_assign'\n",
    "\n",
    "seconds = np.array(sht.range('C2:C1501').value)*60\n",
    "\n",
    "sht.range('G2').options(transpose=True).value = seconds"
   ]
  },
  {
   "cell_type": "markdown",
   "metadata": {},
   "source": [
    "4. Используя `xlwings`, добавьте на лист `Рецепты` столбец `seconds_formula`, показывающий время выполнения рецепта в секундах. Выполните задание при помощи формул Excel."
   ]
  },
  {
   "cell_type": "code",
   "execution_count": 5,
   "metadata": {},
   "outputs": [],
   "source": [
    "sht.range('H1').value = 'seconds_formula'\n",
    "sht.range('H2:H1501').formula = '=C2*60'"
   ]
  },
  {
   "cell_type": "markdown",
   "metadata": {},
   "source": [
    "5. Сделайте названия всех добавленных столбцов полужирными и выровняйте по центру ячейки."
   ]
  },
  {
   "cell_type": "code",
   "execution_count": 6,
   "metadata": {},
   "outputs": [],
   "source": [
    "sht.range('G1').expand('right').font.bold = True"
   ]
  },
  {
   "cell_type": "markdown",
   "metadata": {},
   "source": [
    "6. Раскрасьте ячейки столбца `minutes` в соответствии со следующим правилом: если рецепт выполняется быстрее 5 минут, то цвет - зеленый; от 5 до 10 минут - жёлтый; и больше 10 - красный."
   ]
  },
  {
   "cell_type": "code",
   "execution_count": 7,
   "metadata": {},
   "outputs": [],
   "source": [
    "for i in range(2, 1502):\n",
    "\n",
    "    if sht.range(f'C{i}').value < 5:\n",
    "        sht.range(f'C{i}').color = (0, 128, 0)\n",
    "        \n",
    "    elif sht.range(f'C{i}').value > 10:\n",
    "        sht.range(f'C{i}').color = (250, 0, 0)\n",
    "        \n",
    "    else:\n",
    "        sht.range(f'C{i}').color = (255, 255, 0)"
   ]
  },
  {
   "cell_type": "markdown",
   "metadata": {},
   "source": [
    "7. Добавьте на лист `Рецепты`  столбец `n_reviews`, содержащий кол-во отзывов для этого рецепта. Выполните задание при помощи формул Excel."
   ]
  },
  {
   "cell_type": "code",
   "execution_count": 8,
   "metadata": {},
   "outputs": [],
   "source": [
    "sht_reviews = wb.sheets['Отзывы']\n",
    "\n",
    "sht.range('I1').value = 'n_reviews'\n",
    "sht.range('I2:I1501').formula = '=COUNTIF(Отзывы!C:C,B2)'"
   ]
  },
  {
   "cell_type": "markdown",
   "metadata": {},
   "source": [
    "## Лабораторная работа 7.2"
   ]
  },
  {
   "cell_type": "markdown",
   "metadata": {},
   "source": [
    "8. Напишите функцию `validate()`, которая проверяет соответствие всех строк из листа `Отзывы` следующим правилам:\n",
    "    * Рейтинг - это число от 0 до 5 включительно\n",
    "    * Соответствующий рецепт имеется на листе `Рецепты`\n",
    "    \n",
    "В случае несоответствия этим правилам, выделите строку красным цветом"
   ]
  },
  {
   "cell_type": "code",
   "execution_count": 9,
   "metadata": {},
   "outputs": [],
   "source": [
    "def validate(rating, id_review, recipe_id_set):\n",
    "    return (rating <= 0 or rating >= 5) and id_review not in recipe_id_set\n",
    "\n",
    "recipe_id_set = sht.range('B2:B1501').value\n",
    "\n",
    "for i in range(2, 1502):\n",
    "    if validate(sht_reviews.range(f'E{i}').value, sht_reviews.range(f'C{i}').value, recipe_id_set):\n",
    "        sht_reviews.range(f'B{i}:F{i}').color = (255, 0, 0)"
   ]
  },
  {
   "cell_type": "markdown",
   "metadata": {},
   "source": [
    "9. В файле `recipes_model.csv` находится модель данных предметной области \"рецепты\". При помощи пакета `csv` считайте эти данные. При помощи пакета `xlwings` запишите данные на лист `Модель` книги `recipes_model.xlsx`, начиная с ячейки `A2`, не используя циклы. Сделайте скриншот текущего состояния листа и прикрепите в ячейку ноутбука. "
   ]
  },
  {
   "cell_type": "code",
   "execution_count": 80,
   "metadata": {},
   "outputs": [],
   "source": [
    "model_book = xw.Book()"
   ]
  },
  {
   "cell_type": "code",
   "execution_count": 11,
   "metadata": {},
   "outputs": [],
   "source": [
    "sht_model = model_book.sheets[0].copy(name = 'Модель')\n",
    "model_book.sheets[0].delete()\n",
    "sht_model.range('A1').expand('right').value = [\n",
    "    'Столбец А', 'Столбец B', 'Столбец C', 'Обязательно к заполнению', 'Столбец E',\n",
    "    'Столбец F', 'Ключ', 'Столбец Y', 'Столбец I'\n",
    "]\n",
    "\n",
    "with open('recipes_model.csv' , 'r') as f_model:\n",
    "    model = csv.reader(f_model, delimiter = '\\t')\n",
    "    sht_model.range('A2').value = list(model)\n",
    "    \n",
    "model_book.save('recipes_model.xlsx')"
   ]
  },
  {
   "cell_type": "markdown",
   "metadata": {},
   "source": [
    "<img src = 'num9.jpg'>"
   ]
  },
  {
   "cell_type": "markdown",
   "metadata": {},
   "source": [
    "10. При помощи пакета `xlwings` добавьте в столбец J формулу для описания столбца на языке SQL. Формула должна реализовывать следующую логику:\n",
    "\n",
    "    1\\. в начале строки идут значения из столбцов В и C (значение столбца С приведено к верхнему регистру), разделенные пробелом\n",
    "    \n",
    "    2\\. далее идут слова на основе столбца \"Ключ\"\n",
    "    2.1 если в столбце \"Ключ\" указано значение \"PK\", то дальше через пробел идет ключевое слово \"PRIMARY KEY\"\n",
    "        2.2 если в столбце \"Ключ\" указано значение \"FK\", то дальше через пробел идет ключевое слово \"REFERENCES\", затем значения столбцов H и I в формате \"название_таблицы(название_столбца)\"\n",
    "        \n",
    "    3\\. если в столбце \"Обязательно к заполнению\" указано значение \"Y\" и в столбце \"Ключ\" указано не \"PK\", то дальше через пробел идет ключевое слово \"NOT NULL\".\n",
    "\n",
    "Заполните этой формулой необходимое количество строк, используя \"протягивание\". Количество строк для протягивания определите на основе данных.\n",
    "\n",
    "Сделайте скриншот текущего состояния листа и прикрепите в ячейку ноутбука."
   ]
  },
  {
   "cell_type": "code",
   "execution_count": 95,
   "metadata": {},
   "outputs": [],
   "source": [
    "wb = xw.Book('recipes_model.xlsx')\n",
    "xw.Range('J2:J18').formula = '=B2&\" \"&UPPER(C2)&IF(G2 = \"PK\",\" PRIMARY KEY \", IF(G2 = \"FK\", \" REFERENCES \"&H2&\"(\"&I2&\")\"))&IF(AND(D2=\"Y\", NOT(G2=\"PK\")), \" NOT NULL\", \"\")'"
   ]
  },
  {
   "cell_type": "markdown",
   "metadata": {},
   "source": [
    "<img src = 'ex10.jpg'>"
   ]
  },
  {
   "cell_type": "markdown",
   "metadata": {},
   "source": [
    "11. При помощи пакета `xlwings` измените стилизацию листа `Модель`.\n",
    "* для заголовков добавьте заливку цвета `00ccff`\n",
    "* примените автоподбор ширины столбца;\n",
    "* сделайте шрифт заголовков полужирным;\n",
    "* добавьте таблице автофильтр.\n",
    "\n",
    "Сделайте скриншот текущего состояния листа и прикрепите в ячейку ноутбука."
   ]
  },
  {
   "cell_type": "code",
   "execution_count": 96,
   "metadata": {},
   "outputs": [],
   "source": [
    "sht = xw.sheets['Модель']"
   ]
  },
  {
   "cell_type": "code",
   "execution_count": 97,
   "metadata": {},
   "outputs": [],
   "source": [
    "sht.range('A1:J1').color = '#00ccff'\n",
    "sht.range('A1:J18').autofit()\n",
    "sht.range('A1:J1').font.bold = True\n",
    "\n",
    "sht.tables.add(sht.range('A1:J18'), name = \"my_table\")\n",
    "sht.tables[\"my_table\"].show_autofilter = True"
   ]
  },
  {
   "cell_type": "markdown",
   "metadata": {},
   "source": [
    "<img src = 'ex11.jpg'>"
   ]
  },
  {
   "cell_type": "markdown",
   "metadata": {},
   "source": [
    "12. Посчитайте количество атрибутов для каждой из сущностей. Создайте лист `Статистика` и запишите в него результат группировки, начиная с ячейки \"А1\". Визуализируйте полученный результат при помощи столбчатой диаграммы. Сохраните полученную визуализацию на лист `Статистика`, начиная с ячейки \"E2\".  Сделайте скриншот листа `Статистика` и прикрепите в ячейку ноутбука.\n",
    "\n",
    "* Вы можете воспользоваться методами для визуализации, которые поставляются вместе с объектами `pandas` (см. https://pandas.pydata.org/docs/reference/api/pandas.DataFrame.plot) "
   ]
  },
  {
   "cell_type": "code",
   "execution_count": 108,
   "metadata": {},
   "outputs": [],
   "source": [
    "draw_sht = wb.sheets.add(name = 'Статистика', after = wb.sheets[0].name)"
   ]
  },
  {
   "cell_type": "code",
   "execution_count": 110,
   "metadata": {},
   "outputs": [],
   "source": [
    "draw_sht = wb.sheets['Статистика']"
   ]
  },
  {
   "cell_type": "code",
   "execution_count": 115,
   "metadata": {},
   "outputs": [
    {
     "data": {
      "text/plain": [
       "Столбец А\n",
       "recipe    8\n",
       "review    6\n",
       "user      3\n",
       "Name: Столбец B, dtype: int64"
      ]
     },
     "execution_count": 115,
     "metadata": {},
     "output_type": "execute_result"
    }
   ],
   "source": [
    "frame = xw.Range('A1').expand().options(pd.DataFrame).value\n",
    "data = frame.groupby('Столбец А')['Столбец B'].count()\n",
    "data"
   ]
  },
  {
   "cell_type": "code",
   "execution_count": 119,
   "metadata": {},
   "outputs": [],
   "source": [
    "draw_sht.range('A1').value = data"
   ]
  },
  {
   "cell_type": "code",
   "execution_count": 117,
   "metadata": {},
   "outputs": [
    {
     "data": {
      "text/plain": [
       "Text(0, 0.5, 'Количество аттрибутов')"
      ]
     },
     "execution_count": 117,
     "metadata": {},
     "output_type": "execute_result"
    },
    {
     "data": {
      "image/png": "[encoded data removed]",
      "text/plain": [
       "<Figure size 640x480 with 1 Axes>"
      ]
     },
     "metadata": {},
     "output_type": "display_data"
    }
   ],
   "source": [
    "fig = plt.figure()\n",
    "plt.bar(data.index, data.values)\n",
    "plt.xlabel('Таблицы')\n",
    "plt.ylabel('Количество аттрибутов')"
   ]
  },
  {
   "cell_type": "code",
   "execution_count": 118,
   "metadata": {},
   "outputs": [
    {
     "data": {
      "text/plain": [
       "<Picture 'MyPlot' in <Sheet [recipes_model.xlsx]Статистика>>"
      ]
     },
     "execution_count": 118,
     "metadata": {},
     "output_type": "execute_result"
    }
   ],
   "source": [
    "draw_sht.pictures.add(fig, name='MyPlot', update=True, anchor=xw.Range('E2'))"
   ]
  },
  {
   "cell_type": "markdown",
   "metadata": {},
   "source": [
    "<img src = 'ex12.jpg'>"
   ]
  }
 ],
 "metadata": {
  "kernelspec": {
   "display_name": "Python 3 (ipykernel)",
   "language": "python",
   "name": "python3"
  },
  "language_info": {
   "codemirror_mode": {
    "name": "ipython",
    "version": 3
   },
   "file_extension": ".py",
   "mimetype": "text/x-python",
   "name": "python",
   "nbconvert_exporter": "python",
   "pygments_lexer": "ipython3",
   "version": "3.11.4"
  }
 },
 "nbformat": 4,
 "nbformat_minor": 4
}
